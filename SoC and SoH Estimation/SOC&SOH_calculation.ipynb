{
 "cells": [
  {
   "cell_type": "code",
   "execution_count": 2,
   "id": "1d9c5825-1356-4879-8887-dbc505c22ab6",
   "metadata": {},
   "outputs": [],
   "source": [
    "import pandas as pd\n",
    "import numpy as np\n",
    "import plotly.graph_objects as go\n",
    "from scipy.integrate import cumtrapz\n",
    "import matplotlib.pyplot as plt\n",
    "from scipy.io import savemat"
   ]
  },
  {
   "cell_type": "code",
   "execution_count": 253,
   "id": "fc5698b8-7463-485c-ae62-8be0ead5d3c0",
   "metadata": {},
   "outputs": [],
   "source": [
    "hdf5_file_path = \"\"\n",
    "#df.to_hdf(hdf5_file_path, key='df', mode='w')\n",
    "\n",
    "# Read the HDF5 file back into a DataFrame\n",
    "df_loaded = pd.read_hdf(hdf5_file_path, key='df')"
   ]
  },
  {
   "cell_type": "code",
   "execution_count": 255,
   "id": "fa07adce-73f6-4a7a-aaf4-c2305c4c9584",
   "metadata": {},
   "outputs": [],
   "source": [
    "def calculate_capacity(current, time):\n",
    "    n = len(time)\n",
    "    \n",
    "    # Check if the input arrays have the same length\n",
    "    if n != len(current):\n",
    "        raise ValueError(\"Input arrays must have the same length.\")\n",
    "    \n",
    "    # Calculate the trapezoidal rule for the integral\n",
    "    capacity = 0.5 * np.sum((np.array(current)[1:] + np.array(current)[:-1]) * (np.array(time)[1:] - np.array(time)[:-1]))\n",
    "    return capacity"
   ]
  },
  {
   "cell_type": "code",
   "execution_count": 256,
   "id": "6c5eb6b4-9bd3-4d07-bb9a-c80fba6af015",
   "metadata": {},
   "outputs": [],
   "source": [
    "def calculate_soc(currentc, currentd,timec,timed,soc_previous,cap):\n",
    "    delta_timec = np.diff(timec, prepend=0)\n",
    "    delta_timed = np.diff(timed, prepend=0)\n",
    "    soc_charge = soc_previous+(np.cumsum(currentc[1:] * delta_timec[1:]) / cap)\n",
    "    soc_discharge = 1+(np.cumsum(currentd[1:] * delta_timed[1:]) / cap)\n",
    "    soc=[]\n",
    "    for i in range(len(soc_charge)):\n",
    "        soc.append(soc_charge[i])\n",
    "    for i in range(len(soc_discharge)):\n",
    "        soc.append(soc_discharge[i])\n",
    "    return soc\n"
   ]
  },
  {
   "cell_type": "code",
   "execution_count": 257,
   "id": "5361165e-b349-4d7b-bf57-b0ca66c248b2",
   "metadata": {},
   "outputs": [],
   "source": [
    "def is_constant_discharge(current_array, tolerance=0.01):\n",
    "    # Set a tolerance level to account for small variations\n",
    "    b=0\n",
    "    for i in range(1, len(current_array)):\n",
    "        # Check if the difference between consecutive values is within the tolerance\n",
    "        if abs(current_array[i] - current_array[i-1]) > tolerance:\n",
    "            b=b+1\n",
    "    return (b<=3)"
   ]
  },
  {
   "cell_type": "code",
   "execution_count": 258,
   "id": "5f9cb84b-8310-46d6-aad3-58d3ab9b5f52",
   "metadata": {},
   "outputs": [],
   "source": [
    "def calculate_soh(cap, datasheet_cap):\n",
    "    return (cap/datasheet_cap)"
   ]
  },
  {
   "cell_type": "code",
   "execution_count": 266,
   "id": "a250ffcd-cfd5-4fb6-b389-5e46768f32a9",
   "metadata": {},
   "outputs": [],
   "source": [
    "def SOC_SOH_calculation_df(I,Time,datasheet_cap):\n",
    "    if(len(np.where(np.diff(np.where(I[0]>0)[0])>1)[0])>0):\n",
    "        s=np.where(np.diff(np.where(I[0]>0)[0])>1)[0][0]-1\n",
    "    else: s=np.where(I[0]>0)[0][-1]\n",
    "    currentc=I[0][0:s]\n",
    "    currentd=I[0][s+1:]\n",
    "    timec=Time[0][0:s]\n",
    "    timed=Time[0][s+1:]\n",
    "    Qc=calculate_capacity(currentc,timec)\n",
    "    Qd=calculate_capacity(currentd,timed)\n",
    "    soc_p=((-1)*Qd)-Qc\n",
    "    cap=(-1)*Qd\n",
    "    datasheet_cap=max(datasheet_cap,((-1)*Qd))\n",
    "    soc=[]\n",
    "    soh=[]\n",
    "    for i in range(len(I)):\n",
    "            if(len(np.where(np.diff(np.where(I[i]>0)[0])>1)[0])>0):\n",
    "                s=np.where(np.diff(np.where(I[i]>0)[0])>1)[0][0]-1\n",
    "            else: s=np.where(I[i]>0)[0][-1]\n",
    "            currentc=I[i][0:s]\n",
    "            currentd=I[i][s+1:]\n",
    "            timec=Time[i][0:s]\n",
    "            timed=Time[i][s+1:]\n",
    "            Qd=calculate_capacity(currentd,timed)\n",
    "            Qc=calculate_capacity(currentc,timec)\n",
    "            soc.append(calculate_soc(currentc, currentd,timec,timed,soc_p,cap))\n",
    "            soc_p=soc[i][-1]\n",
    "            if(is_constant_discharge(currentd)):\n",
    "                soh.append(calculate_soh(cap,datasheet_cap))\n",
    "                cap=(-1)*Qd\n",
    "            else: soh.append(calculate_soh(cap,datasheet_cap))\n",
    "                \n",
    "    return soc,soh "
   ]
  },
  {
   "cell_type": "code",
   "execution_count": null,
   "id": "45f1cd84-2591-407f-b9b8-77a5e983daf7",
   "metadata": {},
   "outputs": [],
   "source": [
    "SOC,SOH=SOC_SOH_calculation_df(df_loaded[\"I[A]\"],df_loaded[\"Time[h]\"],datasheet_cap=1.1)"
   ]
  },
  {
   "cell_type": "code",
   "execution_count": null,
   "id": "8bd62a8d-59fe-4b37-9e18-289184d39236",
   "metadata": {},
   "outputs": [],
   "source": [
    "plt.plot(SOH)\n",
    "plt.xlabel(\"cycle number\")\n",
    "plt.ylabel(\"SOH values\")"
   ]
  }
 ],
 "metadata": {
  "kernelspec": {
   "display_name": "Python 3 (ipykernel)",
   "language": "python",
   "name": "python3"
  },
  "language_info": {
   "codemirror_mode": {
    "name": "ipython",
    "version": 3
   },
   "file_extension": ".py",
   "mimetype": "text/x-python",
   "name": "python",
   "nbconvert_exporter": "python",
   "pygments_lexer": "ipython3",
   "version": "3.11.7"
  }
 },
 "nbformat": 4,
 "nbformat_minor": 5
}
